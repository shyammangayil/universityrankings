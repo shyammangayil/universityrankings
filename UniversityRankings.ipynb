{
 "cells": [
  {
   "cell_type": "markdown",
   "metadata": {},
   "source": [
    "Here we analyze the University rankings. \n",
    "From the rankings we can see that India is not in the big league.\n",
    "We believe that for India to be in the big league ie the top numbers, there has to be some factor Indian universities have to work on so that India clinches the top spots.\n",
    "\n",
    "We propose that  publications by faculty is an important factor in world rankings.\n",
    "Our null hypothesis is that publications by faculty is not an important factor in world rankings.\n",
    "Our alternare hypothesis is that publications by faculty is an important factor in world rankings."
   ]
  },
  {
   "cell_type": "code",
   "execution_count": 3,
   "metadata": {},
   "outputs": [
    {
     "data": {
      "text/plain": [
       "(2200, 14)"
      ]
     },
     "execution_count": 3,
     "metadata": {},
     "output_type": "execute_result"
    }
   ],
   "source": [
    "import numpy as np\n",
    "import pandas as pd\n",
    "import statistics\n",
    "pd.set_option('display.max_rows', 20)\n",
    "pd.set_option('display.max_columns', 200)\n",
    "universityrankings  = pd.read_excel('D:\\\\My Data Analysis\\\\University Rankings.xlsx',encoding='utf-8')\n",
    "N = len(universityrankings.index)\n",
    "universityrankings.shape\n"
   ]
  },
  {
   "cell_type": "markdown",
   "metadata": {},
   "source": [
    "University Rankings"
   ]
  },
  {
   "cell_type": "code",
   "execution_count": 4,
   "metadata": {},
   "outputs": [
    {
     "data": {
      "text/html": [
       "<div>\n",
       "<style scoped>\n",
       "    .dataframe tbody tr th:only-of-type {\n",
       "        vertical-align: middle;\n",
       "    }\n",
       "\n",
       "    .dataframe tbody tr th {\n",
       "        vertical-align: top;\n",
       "    }\n",
       "\n",
       "    .dataframe thead th {\n",
       "        text-align: right;\n",
       "    }\n",
       "</style>\n",
       "<table border=\"1\" class=\"dataframe\">\n",
       "  <thead>\n",
       "    <tr style=\"text-align: right;\">\n",
       "      <th></th>\n",
       "      <th>world_rank</th>\n",
       "      <th>institution</th>\n",
       "      <th>country</th>\n",
       "      <th>national_rank</th>\n",
       "      <th>quality_of_education</th>\n",
       "      <th>alumni_employment</th>\n",
       "      <th>quality_of_faculty</th>\n",
       "      <th>publications</th>\n",
       "      <th>influence</th>\n",
       "      <th>citations</th>\n",
       "      <th>broad_impact</th>\n",
       "      <th>patents</th>\n",
       "      <th>score</th>\n",
       "      <th>year</th>\n",
       "    </tr>\n",
       "  </thead>\n",
       "  <tbody>\n",
       "    <tr>\n",
       "      <th>0</th>\n",
       "      <td>1</td>\n",
       "      <td>Harvard University</td>\n",
       "      <td>USA</td>\n",
       "      <td>1</td>\n",
       "      <td>7</td>\n",
       "      <td>9</td>\n",
       "      <td>1</td>\n",
       "      <td>1</td>\n",
       "      <td>1</td>\n",
       "      <td>1</td>\n",
       "      <td>NaN</td>\n",
       "      <td>5</td>\n",
       "      <td>100.00</td>\n",
       "      <td>2012</td>\n",
       "    </tr>\n",
       "    <tr>\n",
       "      <th>1</th>\n",
       "      <td>2</td>\n",
       "      <td>Massachusetts Institute of Technology</td>\n",
       "      <td>USA</td>\n",
       "      <td>2</td>\n",
       "      <td>9</td>\n",
       "      <td>17</td>\n",
       "      <td>3</td>\n",
       "      <td>12</td>\n",
       "      <td>4</td>\n",
       "      <td>4</td>\n",
       "      <td>NaN</td>\n",
       "      <td>1</td>\n",
       "      <td>91.67</td>\n",
       "      <td>2012</td>\n",
       "    </tr>\n",
       "    <tr>\n",
       "      <th>2</th>\n",
       "      <td>3</td>\n",
       "      <td>Stanford University</td>\n",
       "      <td>USA</td>\n",
       "      <td>3</td>\n",
       "      <td>17</td>\n",
       "      <td>11</td>\n",
       "      <td>5</td>\n",
       "      <td>4</td>\n",
       "      <td>2</td>\n",
       "      <td>2</td>\n",
       "      <td>NaN</td>\n",
       "      <td>15</td>\n",
       "      <td>89.50</td>\n",
       "      <td>2012</td>\n",
       "    </tr>\n",
       "    <tr>\n",
       "      <th>3</th>\n",
       "      <td>4</td>\n",
       "      <td>University of Cambridge</td>\n",
       "      <td>United Kingdom</td>\n",
       "      <td>1</td>\n",
       "      <td>10</td>\n",
       "      <td>24</td>\n",
       "      <td>4</td>\n",
       "      <td>16</td>\n",
       "      <td>16</td>\n",
       "      <td>11</td>\n",
       "      <td>NaN</td>\n",
       "      <td>50</td>\n",
       "      <td>86.17</td>\n",
       "      <td>2012</td>\n",
       "    </tr>\n",
       "    <tr>\n",
       "      <th>4</th>\n",
       "      <td>5</td>\n",
       "      <td>California Institute of Technology</td>\n",
       "      <td>USA</td>\n",
       "      <td>4</td>\n",
       "      <td>2</td>\n",
       "      <td>29</td>\n",
       "      <td>7</td>\n",
       "      <td>37</td>\n",
       "      <td>22</td>\n",
       "      <td>22</td>\n",
       "      <td>NaN</td>\n",
       "      <td>18</td>\n",
       "      <td>85.21</td>\n",
       "      <td>2012</td>\n",
       "    </tr>\n",
       "    <tr>\n",
       "      <th>...</th>\n",
       "      <td>...</td>\n",
       "      <td>...</td>\n",
       "      <td>...</td>\n",
       "      <td>...</td>\n",
       "      <td>...</td>\n",
       "      <td>...</td>\n",
       "      <td>...</td>\n",
       "      <td>...</td>\n",
       "      <td>...</td>\n",
       "      <td>...</td>\n",
       "      <td>...</td>\n",
       "      <td>...</td>\n",
       "      <td>...</td>\n",
       "      <td>...</td>\n",
       "    </tr>\n",
       "    <tr>\n",
       "      <th>2195</th>\n",
       "      <td>996</td>\n",
       "      <td>University of the Algarve</td>\n",
       "      <td>Portugal</td>\n",
       "      <td>7</td>\n",
       "      <td>367</td>\n",
       "      <td>567</td>\n",
       "      <td>218</td>\n",
       "      <td>926</td>\n",
       "      <td>845</td>\n",
       "      <td>812</td>\n",
       "      <td>969.0</td>\n",
       "      <td>816</td>\n",
       "      <td>44.03</td>\n",
       "      <td>2015</td>\n",
       "    </tr>\n",
       "    <tr>\n",
       "      <th>2196</th>\n",
       "      <td>997</td>\n",
       "      <td>Alexandria University</td>\n",
       "      <td>Egypt</td>\n",
       "      <td>4</td>\n",
       "      <td>236</td>\n",
       "      <td>566</td>\n",
       "      <td>218</td>\n",
       "      <td>997</td>\n",
       "      <td>908</td>\n",
       "      <td>645</td>\n",
       "      <td>981.0</td>\n",
       "      <td>871</td>\n",
       "      <td>44.03</td>\n",
       "      <td>2015</td>\n",
       "    </tr>\n",
       "    <tr>\n",
       "      <th>2197</th>\n",
       "      <td>998</td>\n",
       "      <td>Federal University of CearÃ¡</td>\n",
       "      <td>Brazil</td>\n",
       "      <td>18</td>\n",
       "      <td>367</td>\n",
       "      <td>549</td>\n",
       "      <td>218</td>\n",
       "      <td>830</td>\n",
       "      <td>823</td>\n",
       "      <td>812</td>\n",
       "      <td>975.0</td>\n",
       "      <td>824</td>\n",
       "      <td>44.03</td>\n",
       "      <td>2015</td>\n",
       "    </tr>\n",
       "    <tr>\n",
       "      <th>2198</th>\n",
       "      <td>999</td>\n",
       "      <td>University of A CoruÃ±a</td>\n",
       "      <td>Spain</td>\n",
       "      <td>40</td>\n",
       "      <td>367</td>\n",
       "      <td>567</td>\n",
       "      <td>218</td>\n",
       "      <td>886</td>\n",
       "      <td>974</td>\n",
       "      <td>812</td>\n",
       "      <td>975.0</td>\n",
       "      <td>651</td>\n",
       "      <td>44.02</td>\n",
       "      <td>2015</td>\n",
       "    </tr>\n",
       "    <tr>\n",
       "      <th>2199</th>\n",
       "      <td>1000</td>\n",
       "      <td>China Pharmaceutical University</td>\n",
       "      <td>China</td>\n",
       "      <td>83</td>\n",
       "      <td>367</td>\n",
       "      <td>567</td>\n",
       "      <td>218</td>\n",
       "      <td>861</td>\n",
       "      <td>991</td>\n",
       "      <td>812</td>\n",
       "      <td>981.0</td>\n",
       "      <td>547</td>\n",
       "      <td>44.02</td>\n",
       "      <td>2015</td>\n",
       "    </tr>\n",
       "  </tbody>\n",
       "</table>\n",
       "<p>2200 rows × 14 columns</p>\n",
       "</div>"
      ],
      "text/plain": [
       "      world_rank                            institution         country  \\\n",
       "0              1                     Harvard University             USA   \n",
       "1              2  Massachusetts Institute of Technology             USA   \n",
       "2              3                    Stanford University             USA   \n",
       "3              4                University of Cambridge  United Kingdom   \n",
       "4              5     California Institute of Technology             USA   \n",
       "...          ...                                    ...             ...   \n",
       "2195         996              University of the Algarve        Portugal   \n",
       "2196         997                  Alexandria University           Egypt   \n",
       "2197         998           Federal University of CearÃ¡          Brazil   \n",
       "2198         999                University of A CoruÃ±a           Spain   \n",
       "2199        1000        China Pharmaceutical University           China   \n",
       "\n",
       "      national_rank  quality_of_education  alumni_employment  \\\n",
       "0                 1                     7                  9   \n",
       "1                 2                     9                 17   \n",
       "2                 3                    17                 11   \n",
       "3                 1                    10                 24   \n",
       "4                 4                     2                 29   \n",
       "...             ...                   ...                ...   \n",
       "2195              7                   367                567   \n",
       "2196              4                   236                566   \n",
       "2197             18                   367                549   \n",
       "2198             40                   367                567   \n",
       "2199             83                   367                567   \n",
       "\n",
       "      quality_of_faculty  publications  influence  citations  broad_impact  \\\n",
       "0                      1             1          1          1           NaN   \n",
       "1                      3            12          4          4           NaN   \n",
       "2                      5             4          2          2           NaN   \n",
       "3                      4            16         16         11           NaN   \n",
       "4                      7            37         22         22           NaN   \n",
       "...                  ...           ...        ...        ...           ...   \n",
       "2195                 218           926        845        812         969.0   \n",
       "2196                 218           997        908        645         981.0   \n",
       "2197                 218           830        823        812         975.0   \n",
       "2198                 218           886        974        812         975.0   \n",
       "2199                 218           861        991        812         981.0   \n",
       "\n",
       "      patents   score  year  \n",
       "0           5  100.00  2012  \n",
       "1           1   91.67  2012  \n",
       "2          15   89.50  2012  \n",
       "3          50   86.17  2012  \n",
       "4          18   85.21  2012  \n",
       "...       ...     ...   ...  \n",
       "2195      816   44.03  2015  \n",
       "2196      871   44.03  2015  \n",
       "2197      824   44.03  2015  \n",
       "2198      651   44.02  2015  \n",
       "2199      547   44.02  2015  \n",
       "\n",
       "[2200 rows x 14 columns]"
      ]
     },
     "execution_count": 4,
     "metadata": {},
     "output_type": "execute_result"
    }
   ],
   "source": [
    "universityrankings"
   ]
  },
  {
   "cell_type": "markdown",
   "metadata": {},
   "source": [
    "Indian Universities"
   ]
  },
  {
   "cell_type": "code",
   "execution_count": 5,
   "metadata": {},
   "outputs": [
    {
     "data": {
      "text/html": [
       "<div>\n",
       "<style scoped>\n",
       "    .dataframe tbody tr th:only-of-type {\n",
       "        vertical-align: middle;\n",
       "    }\n",
       "\n",
       "    .dataframe tbody tr th {\n",
       "        vertical-align: top;\n",
       "    }\n",
       "\n",
       "    .dataframe thead th {\n",
       "        text-align: right;\n",
       "    }\n",
       "</style>\n",
       "<table border=\"1\" class=\"dataframe\">\n",
       "  <thead>\n",
       "    <tr style=\"text-align: right;\">\n",
       "      <th></th>\n",
       "      <th>world_rank</th>\n",
       "      <th>institution</th>\n",
       "      <th>country</th>\n",
       "      <th>national_rank</th>\n",
       "      <th>quality_of_education</th>\n",
       "      <th>alumni_employment</th>\n",
       "      <th>quality_of_faculty</th>\n",
       "      <th>publications</th>\n",
       "      <th>influence</th>\n",
       "      <th>citations</th>\n",
       "      <th>broad_impact</th>\n",
       "      <th>patents</th>\n",
       "      <th>score</th>\n",
       "      <th>year</th>\n",
       "    </tr>\n",
       "  </thead>\n",
       "  <tbody>\n",
       "    <tr>\n",
       "      <th>527</th>\n",
       "      <td>328</td>\n",
       "      <td>Indian Institute of Technology Delhi</td>\n",
       "      <td>India</td>\n",
       "      <td>1</td>\n",
       "      <td>355</td>\n",
       "      <td>57</td>\n",
       "      <td>210</td>\n",
       "      <td>644</td>\n",
       "      <td>928</td>\n",
       "      <td>800</td>\n",
       "      <td>756.0</td>\n",
       "      <td>426</td>\n",
       "      <td>46.10</td>\n",
       "      <td>2014</td>\n",
       "    </tr>\n",
       "    <tr>\n",
       "      <th>635</th>\n",
       "      <td>436</td>\n",
       "      <td>University of Delhi</td>\n",
       "      <td>India</td>\n",
       "      <td>2</td>\n",
       "      <td>263</td>\n",
       "      <td>88</td>\n",
       "      <td>210</td>\n",
       "      <td>701</td>\n",
       "      <td>732</td>\n",
       "      <td>800</td>\n",
       "      <td>769.0</td>\n",
       "      <td>637</td>\n",
       "      <td>45.40</td>\n",
       "      <td>2014</td>\n",
       "    </tr>\n",
       "    <tr>\n",
       "      <th>700</th>\n",
       "      <td>501</td>\n",
       "      <td>Indian Institute of Science</td>\n",
       "      <td>India</td>\n",
       "      <td>3</td>\n",
       "      <td>355</td>\n",
       "      <td>478</td>\n",
       "      <td>210</td>\n",
       "      <td>305</td>\n",
       "      <td>495</td>\n",
       "      <td>609</td>\n",
       "      <td>472.0</td>\n",
       "      <td>280</td>\n",
       "      <td>45.11</td>\n",
       "      <td>2014</td>\n",
       "    </tr>\n",
       "    <tr>\n",
       "      <th>734</th>\n",
       "      <td>535</td>\n",
       "      <td>Indian Institute of Technology Bombay</td>\n",
       "      <td>India</td>\n",
       "      <td>4</td>\n",
       "      <td>355</td>\n",
       "      <td>478</td>\n",
       "      <td>210</td>\n",
       "      <td>522</td>\n",
       "      <td>785</td>\n",
       "      <td>609</td>\n",
       "      <td>724.0</td>\n",
       "      <td>121</td>\n",
       "      <td>45.00</td>\n",
       "      <td>2014</td>\n",
       "    </tr>\n",
       "    <tr>\n",
       "      <th>742</th>\n",
       "      <td>543</td>\n",
       "      <td>Panjab University</td>\n",
       "      <td>India</td>\n",
       "      <td>5</td>\n",
       "      <td>332</td>\n",
       "      <td>212</td>\n",
       "      <td>210</td>\n",
       "      <td>708</td>\n",
       "      <td>722</td>\n",
       "      <td>363</td>\n",
       "      <td>569.0</td>\n",
       "      <td>737</td>\n",
       "      <td>44.97</td>\n",
       "      <td>2014</td>\n",
       "    </tr>\n",
       "    <tr>\n",
       "      <th>...</th>\n",
       "      <td>...</td>\n",
       "      <td>...</td>\n",
       "      <td>...</td>\n",
       "      <td>...</td>\n",
       "      <td>...</td>\n",
       "      <td>...</td>\n",
       "      <td>...</td>\n",
       "      <td>...</td>\n",
       "      <td>...</td>\n",
       "      <td>...</td>\n",
       "      <td>...</td>\n",
       "      <td>...</td>\n",
       "      <td>...</td>\n",
       "      <td>...</td>\n",
       "    </tr>\n",
       "    <tr>\n",
       "      <th>1976</th>\n",
       "      <td>777</td>\n",
       "      <td>Jawaharlal Nehru Centre for Advanced Scientifi...</td>\n",
       "      <td>India</td>\n",
       "      <td>12</td>\n",
       "      <td>367</td>\n",
       "      <td>567</td>\n",
       "      <td>218</td>\n",
       "      <td>868</td>\n",
       "      <td>650</td>\n",
       "      <td>645</td>\n",
       "      <td>715.0</td>\n",
       "      <td>453</td>\n",
       "      <td>44.27</td>\n",
       "      <td>2015</td>\n",
       "    </tr>\n",
       "    <tr>\n",
       "      <th>2050</th>\n",
       "      <td>851</td>\n",
       "      <td>All India Institute of Medical Sciences, New D...</td>\n",
       "      <td>India</td>\n",
       "      <td>13</td>\n",
       "      <td>367</td>\n",
       "      <td>567</td>\n",
       "      <td>218</td>\n",
       "      <td>887</td>\n",
       "      <td>886</td>\n",
       "      <td>645</td>\n",
       "      <td>781.0</td>\n",
       "      <td>839</td>\n",
       "      <td>44.18</td>\n",
       "      <td>2015</td>\n",
       "    </tr>\n",
       "    <tr>\n",
       "      <th>2090</th>\n",
       "      <td>891</td>\n",
       "      <td>University of Calcutta</td>\n",
       "      <td>India</td>\n",
       "      <td>14</td>\n",
       "      <td>140</td>\n",
       "      <td>346</td>\n",
       "      <td>209</td>\n",
       "      <td>964</td>\n",
       "      <td>900</td>\n",
       "      <td>645</td>\n",
       "      <td>994.0</td>\n",
       "      <td>424</td>\n",
       "      <td>44.14</td>\n",
       "      <td>2015</td>\n",
       "    </tr>\n",
       "    <tr>\n",
       "      <th>2122</th>\n",
       "      <td>923</td>\n",
       "      <td>Jadavpur University</td>\n",
       "      <td>India</td>\n",
       "      <td>15</td>\n",
       "      <td>367</td>\n",
       "      <td>515</td>\n",
       "      <td>218</td>\n",
       "      <td>849</td>\n",
       "      <td>991</td>\n",
       "      <td>428</td>\n",
       "      <td>886.0</td>\n",
       "      <td>735</td>\n",
       "      <td>44.11</td>\n",
       "      <td>2015</td>\n",
       "    </tr>\n",
       "    <tr>\n",
       "      <th>2124</th>\n",
       "      <td>925</td>\n",
       "      <td>University of Hyderabad</td>\n",
       "      <td>India</td>\n",
       "      <td>16</td>\n",
       "      <td>367</td>\n",
       "      <td>567</td>\n",
       "      <td>218</td>\n",
       "      <td>879</td>\n",
       "      <td>910</td>\n",
       "      <td>812</td>\n",
       "      <td>880.0</td>\n",
       "      <td>871</td>\n",
       "      <td>44.11</td>\n",
       "      <td>2015</td>\n",
       "    </tr>\n",
       "  </tbody>\n",
       "</table>\n",
       "<p>31 rows × 14 columns</p>\n",
       "</div>"
      ],
      "text/plain": [
       "      world_rank                                        institution country  \\\n",
       "527          328               Indian Institute of Technology Delhi   India   \n",
       "635          436                                University of Delhi   India   \n",
       "700          501                        Indian Institute of Science   India   \n",
       "734          535              Indian Institute of Technology Bombay   India   \n",
       "742          543                                  Panjab University   India   \n",
       "...          ...                                                ...     ...   \n",
       "1976         777  Jawaharlal Nehru Centre for Advanced Scientifi...   India   \n",
       "2050         851  All India Institute of Medical Sciences, New D...   India   \n",
       "2090         891                             University of Calcutta   India   \n",
       "2122         923                                Jadavpur University   India   \n",
       "2124         925                            University of Hyderabad   India   \n",
       "\n",
       "      national_rank  quality_of_education  alumni_employment  \\\n",
       "527               1                   355                 57   \n",
       "635               2                   263                 88   \n",
       "700               3                   355                478   \n",
       "734               4                   355                478   \n",
       "742               5                   332                212   \n",
       "...             ...                   ...                ...   \n",
       "1976             12                   367                567   \n",
       "2050             13                   367                567   \n",
       "2090             14                   140                346   \n",
       "2122             15                   367                515   \n",
       "2124             16                   367                567   \n",
       "\n",
       "      quality_of_faculty  publications  influence  citations  broad_impact  \\\n",
       "527                  210           644        928        800         756.0   \n",
       "635                  210           701        732        800         769.0   \n",
       "700                  210           305        495        609         472.0   \n",
       "734                  210           522        785        609         724.0   \n",
       "742                  210           708        722        363         569.0   \n",
       "...                  ...           ...        ...        ...           ...   \n",
       "1976                 218           868        650        645         715.0   \n",
       "2050                 218           887        886        645         781.0   \n",
       "2090                 209           964        900        645         994.0   \n",
       "2122                 218           849        991        428         886.0   \n",
       "2124                 218           879        910        812         880.0   \n",
       "\n",
       "      patents  score  year  \n",
       "527       426  46.10  2014  \n",
       "635       637  45.40  2014  \n",
       "700       280  45.11  2014  \n",
       "734       121  45.00  2014  \n",
       "742       737  44.97  2014  \n",
       "...       ...    ...   ...  \n",
       "1976      453  44.27  2015  \n",
       "2050      839  44.18  2015  \n",
       "2090      424  44.14  2015  \n",
       "2122      735  44.11  2015  \n",
       "2124      871  44.11  2015  \n",
       "\n",
       "[31 rows x 14 columns]"
      ]
     },
     "execution_count": 5,
     "metadata": {},
     "output_type": "execute_result"
    }
   ],
   "source": [
    "INDIA=universityrankings[universityrankings.country=='India']\n",
    "INDIA"
   ]
  },
  {
   "cell_type": "markdown",
   "metadata": {},
   "source": [
    "Chinese Universities"
   ]
  },
  {
   "cell_type": "code",
   "execution_count": 6,
   "metadata": {},
   "outputs": [
    {
     "data": {
      "text/html": [
       "<div>\n",
       "<style scoped>\n",
       "    .dataframe tbody tr th:only-of-type {\n",
       "        vertical-align: middle;\n",
       "    }\n",
       "\n",
       "    .dataframe tbody tr th {\n",
       "        vertical-align: top;\n",
       "    }\n",
       "\n",
       "    .dataframe thead th {\n",
       "        text-align: right;\n",
       "    }\n",
       "</style>\n",
       "<table border=\"1\" class=\"dataframe\">\n",
       "  <thead>\n",
       "    <tr style=\"text-align: right;\">\n",
       "      <th></th>\n",
       "      <th>world_rank</th>\n",
       "      <th>institution</th>\n",
       "      <th>country</th>\n",
       "      <th>national_rank</th>\n",
       "      <th>quality_of_education</th>\n",
       "      <th>alumni_employment</th>\n",
       "      <th>quality_of_faculty</th>\n",
       "      <th>publications</th>\n",
       "      <th>influence</th>\n",
       "      <th>citations</th>\n",
       "      <th>broad_impact</th>\n",
       "      <th>patents</th>\n",
       "      <th>score</th>\n",
       "      <th>year</th>\n",
       "    </tr>\n",
       "  </thead>\n",
       "  <tbody>\n",
       "    <tr>\n",
       "      <th>254</th>\n",
       "      <td>55</td>\n",
       "      <td>Peking University</td>\n",
       "      <td>China</td>\n",
       "      <td>1</td>\n",
       "      <td>355</td>\n",
       "      <td>35</td>\n",
       "      <td>210</td>\n",
       "      <td>65</td>\n",
       "      <td>155</td>\n",
       "      <td>250</td>\n",
       "      <td>155.0</td>\n",
       "      <td>7</td>\n",
       "      <td>55.30</td>\n",
       "      <td>2014</td>\n",
       "    </tr>\n",
       "    <tr>\n",
       "      <th>286</th>\n",
       "      <td>87</td>\n",
       "      <td>Tsinghua University</td>\n",
       "      <td>China</td>\n",
       "      <td>2</td>\n",
       "      <td>294</td>\n",
       "      <td>63</td>\n",
       "      <td>210</td>\n",
       "      <td>79</td>\n",
       "      <td>192</td>\n",
       "      <td>134</td>\n",
       "      <td>162.0</td>\n",
       "      <td>16</td>\n",
       "      <td>52.60</td>\n",
       "      <td>2014</td>\n",
       "    </tr>\n",
       "    <tr>\n",
       "      <th>388</th>\n",
       "      <td>189</td>\n",
       "      <td>Fudan University</td>\n",
       "      <td>China</td>\n",
       "      <td>3</td>\n",
       "      <td>355</td>\n",
       "      <td>126</td>\n",
       "      <td>210</td>\n",
       "      <td>120</td>\n",
       "      <td>264</td>\n",
       "      <td>310</td>\n",
       "      <td>230.0</td>\n",
       "      <td>100</td>\n",
       "      <td>48.14</td>\n",
       "      <td>2014</td>\n",
       "    </tr>\n",
       "    <tr>\n",
       "      <th>394</th>\n",
       "      <td>195</td>\n",
       "      <td>Shanghai Jiao Tong University</td>\n",
       "      <td>China</td>\n",
       "      <td>4</td>\n",
       "      <td>325</td>\n",
       "      <td>149</td>\n",
       "      <td>210</td>\n",
       "      <td>102</td>\n",
       "      <td>250</td>\n",
       "      <td>250</td>\n",
       "      <td>234.0</td>\n",
       "      <td>138</td>\n",
       "      <td>48.02</td>\n",
       "      <td>2014</td>\n",
       "    </tr>\n",
       "    <tr>\n",
       "      <th>405</th>\n",
       "      <td>206</td>\n",
       "      <td>Zhejiang University</td>\n",
       "      <td>China</td>\n",
       "      <td>5</td>\n",
       "      <td>355</td>\n",
       "      <td>293</td>\n",
       "      <td>210</td>\n",
       "      <td>86</td>\n",
       "      <td>318</td>\n",
       "      <td>493</td>\n",
       "      <td>290.0</td>\n",
       "      <td>94</td>\n",
       "      <td>47.76</td>\n",
       "      <td>2014</td>\n",
       "    </tr>\n",
       "    <tr>\n",
       "      <th>...</th>\n",
       "      <td>...</td>\n",
       "      <td>...</td>\n",
       "      <td>...</td>\n",
       "      <td>...</td>\n",
       "      <td>...</td>\n",
       "      <td>...</td>\n",
       "      <td>...</td>\n",
       "      <td>...</td>\n",
       "      <td>...</td>\n",
       "      <td>...</td>\n",
       "      <td>...</td>\n",
       "      <td>...</td>\n",
       "      <td>...</td>\n",
       "      <td>...</td>\n",
       "    </tr>\n",
       "    <tr>\n",
       "      <th>2183</th>\n",
       "      <td>984</td>\n",
       "      <td>Zhejiang University of Technology</td>\n",
       "      <td>China</td>\n",
       "      <td>79</td>\n",
       "      <td>367</td>\n",
       "      <td>567</td>\n",
       "      <td>218</td>\n",
       "      <td>858</td>\n",
       "      <td>991</td>\n",
       "      <td>812</td>\n",
       "      <td>958.0</td>\n",
       "      <td>672</td>\n",
       "      <td>44.04</td>\n",
       "      <td>2015</td>\n",
       "    </tr>\n",
       "    <tr>\n",
       "      <th>2189</th>\n",
       "      <td>990</td>\n",
       "      <td>Henan Normal University</td>\n",
       "      <td>China</td>\n",
       "      <td>80</td>\n",
       "      <td>367</td>\n",
       "      <td>567</td>\n",
       "      <td>218</td>\n",
       "      <td>959</td>\n",
       "      <td>991</td>\n",
       "      <td>812</td>\n",
       "      <td>958.0</td>\n",
       "      <td>871</td>\n",
       "      <td>44.04</td>\n",
       "      <td>2015</td>\n",
       "    </tr>\n",
       "    <tr>\n",
       "      <th>2190</th>\n",
       "      <td>991</td>\n",
       "      <td>Xidian University</td>\n",
       "      <td>China</td>\n",
       "      <td>81</td>\n",
       "      <td>367</td>\n",
       "      <td>542</td>\n",
       "      <td>218</td>\n",
       "      <td>830</td>\n",
       "      <td>974</td>\n",
       "      <td>812</td>\n",
       "      <td>984.0</td>\n",
       "      <td>434</td>\n",
       "      <td>44.03</td>\n",
       "      <td>2015</td>\n",
       "    </tr>\n",
       "    <tr>\n",
       "      <th>2192</th>\n",
       "      <td>993</td>\n",
       "      <td>Southwest Jiaotong University</td>\n",
       "      <td>China</td>\n",
       "      <td>82</td>\n",
       "      <td>367</td>\n",
       "      <td>327</td>\n",
       "      <td>218</td>\n",
       "      <td>937</td>\n",
       "      <td>962</td>\n",
       "      <td>812</td>\n",
       "      <td>998.0</td>\n",
       "      <td>861</td>\n",
       "      <td>44.03</td>\n",
       "      <td>2015</td>\n",
       "    </tr>\n",
       "    <tr>\n",
       "      <th>2199</th>\n",
       "      <td>1000</td>\n",
       "      <td>China Pharmaceutical University</td>\n",
       "      <td>China</td>\n",
       "      <td>83</td>\n",
       "      <td>367</td>\n",
       "      <td>567</td>\n",
       "      <td>218</td>\n",
       "      <td>861</td>\n",
       "      <td>991</td>\n",
       "      <td>812</td>\n",
       "      <td>981.0</td>\n",
       "      <td>547</td>\n",
       "      <td>44.02</td>\n",
       "      <td>2015</td>\n",
       "    </tr>\n",
       "  </tbody>\n",
       "</table>\n",
       "<p>167 rows × 14 columns</p>\n",
       "</div>"
      ],
      "text/plain": [
       "      world_rank                        institution country  national_rank  \\\n",
       "254           55                  Peking University   China              1   \n",
       "286           87                Tsinghua University   China              2   \n",
       "388          189                   Fudan University   China              3   \n",
       "394          195      Shanghai Jiao Tong University   China              4   \n",
       "405          206                Zhejiang University   China              5   \n",
       "...          ...                                ...     ...            ...   \n",
       "2183         984  Zhejiang University of Technology   China             79   \n",
       "2189         990            Henan Normal University   China             80   \n",
       "2190         991                  Xidian University   China             81   \n",
       "2192         993      Southwest Jiaotong University   China             82   \n",
       "2199        1000    China Pharmaceutical University   China             83   \n",
       "\n",
       "      quality_of_education  alumni_employment  quality_of_faculty  \\\n",
       "254                    355                 35                 210   \n",
       "286                    294                 63                 210   \n",
       "388                    355                126                 210   \n",
       "394                    325                149                 210   \n",
       "405                    355                293                 210   \n",
       "...                    ...                ...                 ...   \n",
       "2183                   367                567                 218   \n",
       "2189                   367                567                 218   \n",
       "2190                   367                542                 218   \n",
       "2192                   367                327                 218   \n",
       "2199                   367                567                 218   \n",
       "\n",
       "      publications  influence  citations  broad_impact  patents  score  year  \n",
       "254             65        155        250         155.0        7  55.30  2014  \n",
       "286             79        192        134         162.0       16  52.60  2014  \n",
       "388            120        264        310         230.0      100  48.14  2014  \n",
       "394            102        250        250         234.0      138  48.02  2014  \n",
       "405             86        318        493         290.0       94  47.76  2014  \n",
       "...            ...        ...        ...           ...      ...    ...   ...  \n",
       "2183           858        991        812         958.0      672  44.04  2015  \n",
       "2189           959        991        812         958.0      871  44.04  2015  \n",
       "2190           830        974        812         984.0      434  44.03  2015  \n",
       "2192           937        962        812         998.0      861  44.03  2015  \n",
       "2199           861        991        812         981.0      547  44.02  2015  \n",
       "\n",
       "[167 rows x 14 columns]"
      ]
     },
     "execution_count": 6,
     "metadata": {},
     "output_type": "execute_result"
    }
   ],
   "source": [
    "China=universityrankings[universityrankings.country=='China']\n",
    "China"
   ]
  },
  {
   "cell_type": "markdown",
   "metadata": {},
   "source": [
    "American universities"
   ]
  },
  {
   "cell_type": "code",
   "execution_count": 7,
   "metadata": {},
   "outputs": [
    {
     "data": {
      "text/html": [
       "<div>\n",
       "<style scoped>\n",
       "    .dataframe tbody tr th:only-of-type {\n",
       "        vertical-align: middle;\n",
       "    }\n",
       "\n",
       "    .dataframe tbody tr th {\n",
       "        vertical-align: top;\n",
       "    }\n",
       "\n",
       "    .dataframe thead th {\n",
       "        text-align: right;\n",
       "    }\n",
       "</style>\n",
       "<table border=\"1\" class=\"dataframe\">\n",
       "  <thead>\n",
       "    <tr style=\"text-align: right;\">\n",
       "      <th></th>\n",
       "      <th>world_rank</th>\n",
       "      <th>institution</th>\n",
       "      <th>country</th>\n",
       "      <th>national_rank</th>\n",
       "      <th>quality_of_education</th>\n",
       "      <th>alumni_employment</th>\n",
       "      <th>quality_of_faculty</th>\n",
       "      <th>publications</th>\n",
       "      <th>influence</th>\n",
       "      <th>citations</th>\n",
       "      <th>broad_impact</th>\n",
       "      <th>patents</th>\n",
       "      <th>score</th>\n",
       "      <th>year</th>\n",
       "    </tr>\n",
       "  </thead>\n",
       "  <tbody>\n",
       "    <tr>\n",
       "      <th>0</th>\n",
       "      <td>1</td>\n",
       "      <td>Harvard University</td>\n",
       "      <td>USA</td>\n",
       "      <td>1</td>\n",
       "      <td>7</td>\n",
       "      <td>9</td>\n",
       "      <td>1</td>\n",
       "      <td>1</td>\n",
       "      <td>1</td>\n",
       "      <td>1</td>\n",
       "      <td>NaN</td>\n",
       "      <td>5</td>\n",
       "      <td>100.00</td>\n",
       "      <td>2012</td>\n",
       "    </tr>\n",
       "    <tr>\n",
       "      <th>1</th>\n",
       "      <td>2</td>\n",
       "      <td>Massachusetts Institute of Technology</td>\n",
       "      <td>USA</td>\n",
       "      <td>2</td>\n",
       "      <td>9</td>\n",
       "      <td>17</td>\n",
       "      <td>3</td>\n",
       "      <td>12</td>\n",
       "      <td>4</td>\n",
       "      <td>4</td>\n",
       "      <td>NaN</td>\n",
       "      <td>1</td>\n",
       "      <td>91.67</td>\n",
       "      <td>2012</td>\n",
       "    </tr>\n",
       "    <tr>\n",
       "      <th>2</th>\n",
       "      <td>3</td>\n",
       "      <td>Stanford University</td>\n",
       "      <td>USA</td>\n",
       "      <td>3</td>\n",
       "      <td>17</td>\n",
       "      <td>11</td>\n",
       "      <td>5</td>\n",
       "      <td>4</td>\n",
       "      <td>2</td>\n",
       "      <td>2</td>\n",
       "      <td>NaN</td>\n",
       "      <td>15</td>\n",
       "      <td>89.50</td>\n",
       "      <td>2012</td>\n",
       "    </tr>\n",
       "    <tr>\n",
       "      <th>4</th>\n",
       "      <td>5</td>\n",
       "      <td>California Institute of Technology</td>\n",
       "      <td>USA</td>\n",
       "      <td>4</td>\n",
       "      <td>2</td>\n",
       "      <td>29</td>\n",
       "      <td>7</td>\n",
       "      <td>37</td>\n",
       "      <td>22</td>\n",
       "      <td>22</td>\n",
       "      <td>NaN</td>\n",
       "      <td>18</td>\n",
       "      <td>85.21</td>\n",
       "      <td>2012</td>\n",
       "    </tr>\n",
       "    <tr>\n",
       "      <th>5</th>\n",
       "      <td>6</td>\n",
       "      <td>Princeton University</td>\n",
       "      <td>USA</td>\n",
       "      <td>5</td>\n",
       "      <td>8</td>\n",
       "      <td>14</td>\n",
       "      <td>2</td>\n",
       "      <td>53</td>\n",
       "      <td>33</td>\n",
       "      <td>26</td>\n",
       "      <td>NaN</td>\n",
       "      <td>101</td>\n",
       "      <td>82.50</td>\n",
       "      <td>2012</td>\n",
       "    </tr>\n",
       "    <tr>\n",
       "      <th>...</th>\n",
       "      <td>...</td>\n",
       "      <td>...</td>\n",
       "      <td>...</td>\n",
       "      <td>...</td>\n",
       "      <td>...</td>\n",
       "      <td>...</td>\n",
       "      <td>...</td>\n",
       "      <td>...</td>\n",
       "      <td>...</td>\n",
       "      <td>...</td>\n",
       "      <td>...</td>\n",
       "      <td>...</td>\n",
       "      <td>...</td>\n",
       "      <td>...</td>\n",
       "    </tr>\n",
       "    <tr>\n",
       "      <th>2100</th>\n",
       "      <td>901</td>\n",
       "      <td>University of Southern Mississippi</td>\n",
       "      <td>USA</td>\n",
       "      <td>225</td>\n",
       "      <td>367</td>\n",
       "      <td>567</td>\n",
       "      <td>218</td>\n",
       "      <td>913</td>\n",
       "      <td>853</td>\n",
       "      <td>812</td>\n",
       "      <td>850.0</td>\n",
       "      <td>676</td>\n",
       "      <td>44.13</td>\n",
       "      <td>2015</td>\n",
       "    </tr>\n",
       "    <tr>\n",
       "      <th>2105</th>\n",
       "      <td>906</td>\n",
       "      <td>Oakland University</td>\n",
       "      <td>USA</td>\n",
       "      <td>226</td>\n",
       "      <td>367</td>\n",
       "      <td>567</td>\n",
       "      <td>218</td>\n",
       "      <td>888</td>\n",
       "      <td>810</td>\n",
       "      <td>812</td>\n",
       "      <td>850.0</td>\n",
       "      <td>871</td>\n",
       "      <td>44.13</td>\n",
       "      <td>2015</td>\n",
       "    </tr>\n",
       "    <tr>\n",
       "      <th>2112</th>\n",
       "      <td>913</td>\n",
       "      <td>University of North Dakota</td>\n",
       "      <td>USA</td>\n",
       "      <td>227</td>\n",
       "      <td>367</td>\n",
       "      <td>567</td>\n",
       "      <td>218</td>\n",
       "      <td>917</td>\n",
       "      <td>731</td>\n",
       "      <td>812</td>\n",
       "      <td>867.0</td>\n",
       "      <td>606</td>\n",
       "      <td>44.12</td>\n",
       "      <td>2015</td>\n",
       "    </tr>\n",
       "    <tr>\n",
       "      <th>2128</th>\n",
       "      <td>929</td>\n",
       "      <td>University of Texas at El Paso</td>\n",
       "      <td>USA</td>\n",
       "      <td>228</td>\n",
       "      <td>367</td>\n",
       "      <td>442</td>\n",
       "      <td>218</td>\n",
       "      <td>910</td>\n",
       "      <td>838</td>\n",
       "      <td>812</td>\n",
       "      <td>906.0</td>\n",
       "      <td>706</td>\n",
       "      <td>44.10</td>\n",
       "      <td>2015</td>\n",
       "    </tr>\n",
       "    <tr>\n",
       "      <th>2135</th>\n",
       "      <td>936</td>\n",
       "      <td>University of California, Merced</td>\n",
       "      <td>USA</td>\n",
       "      <td>229</td>\n",
       "      <td>367</td>\n",
       "      <td>567</td>\n",
       "      <td>218</td>\n",
       "      <td>899</td>\n",
       "      <td>540</td>\n",
       "      <td>812</td>\n",
       "      <td>906.0</td>\n",
       "      <td>491</td>\n",
       "      <td>44.09</td>\n",
       "      <td>2015</td>\n",
       "    </tr>\n",
       "  </tbody>\n",
       "</table>\n",
       "<p>573 rows × 14 columns</p>\n",
       "</div>"
      ],
      "text/plain": [
       "      world_rank                            institution country  \\\n",
       "0              1                     Harvard University     USA   \n",
       "1              2  Massachusetts Institute of Technology     USA   \n",
       "2              3                    Stanford University     USA   \n",
       "4              5     California Institute of Technology     USA   \n",
       "5              6                   Princeton University     USA   \n",
       "...          ...                                    ...     ...   \n",
       "2100         901     University of Southern Mississippi     USA   \n",
       "2105         906                     Oakland University     USA   \n",
       "2112         913             University of North Dakota     USA   \n",
       "2128         929         University of Texas at El Paso     USA   \n",
       "2135         936       University of California, Merced     USA   \n",
       "\n",
       "      national_rank  quality_of_education  alumni_employment  \\\n",
       "0                 1                     7                  9   \n",
       "1                 2                     9                 17   \n",
       "2                 3                    17                 11   \n",
       "4                 4                     2                 29   \n",
       "5                 5                     8                 14   \n",
       "...             ...                   ...                ...   \n",
       "2100            225                   367                567   \n",
       "2105            226                   367                567   \n",
       "2112            227                   367                567   \n",
       "2128            228                   367                442   \n",
       "2135            229                   367                567   \n",
       "\n",
       "      quality_of_faculty  publications  influence  citations  broad_impact  \\\n",
       "0                      1             1          1          1           NaN   \n",
       "1                      3            12          4          4           NaN   \n",
       "2                      5             4          2          2           NaN   \n",
       "4                      7            37         22         22           NaN   \n",
       "5                      2            53         33         26           NaN   \n",
       "...                  ...           ...        ...        ...           ...   \n",
       "2100                 218           913        853        812         850.0   \n",
       "2105                 218           888        810        812         850.0   \n",
       "2112                 218           917        731        812         867.0   \n",
       "2128                 218           910        838        812         906.0   \n",
       "2135                 218           899        540        812         906.0   \n",
       "\n",
       "      patents   score  year  \n",
       "0           5  100.00  2012  \n",
       "1           1   91.67  2012  \n",
       "2          15   89.50  2012  \n",
       "4          18   85.21  2012  \n",
       "5         101   82.50  2012  \n",
       "...       ...     ...   ...  \n",
       "2100      676   44.13  2015  \n",
       "2105      871   44.13  2015  \n",
       "2112      606   44.12  2015  \n",
       "2128      706   44.10  2015  \n",
       "2135      491   44.09  2015  \n",
       "\n",
       "[573 rows x 14 columns]"
      ]
     },
     "execution_count": 7,
     "metadata": {},
     "output_type": "execute_result"
    }
   ],
   "source": [
    "Usa=universityrankings[universityrankings.country=='USA']\n",
    "Usa"
   ]
  },
  {
   "cell_type": "markdown",
   "metadata": {},
   "source": [
    "Linear regression of world university rankings\n",
    "Regressand world_rank  with Regressors :  quality_of_education + alumni_employment + quality_of_faculty + publications + influence + citations + patents"
   ]
  },
  {
   "cell_type": "code",
   "execution_count": 8,
   "metadata": {},
   "outputs": [
    {
     "name": "stdout",
     "output_type": "stream",
     "text": [
      "                            OLS Regression Results                            \n",
      "==============================================================================\n",
      "Dep. Variable:             world_rank   R-squared:                       0.919\n",
      "Model:                            OLS   Adj. R-squared:                  0.918\n",
      "Method:                 Least Squares   F-statistic:                     3530.\n",
      "Date:                Mon, 13 Jul 2020   Prob (F-statistic):               0.00\n",
      "Time:                        19:37:16   Log-Likelihood:                -12943.\n",
      "No. Observations:                2200   AIC:                         2.590e+04\n",
      "Df Residuals:                    2192   BIC:                         2.595e+04\n",
      "Df Model:                           7                                         \n",
      "Covariance Type:            nonrobust                                         \n",
      "========================================================================================\n",
      "                           coef    std err          t      P>|t|      [0.025      0.975]\n",
      "----------------------------------------------------------------------------------------\n",
      "Intercept              -52.6402      5.670     -9.284      0.000     -63.759     -41.522\n",
      "quality_of_education     0.0961      0.027      3.603      0.000       0.044       0.148\n",
      "alumni_employment        0.2630      0.013     19.503      0.000       0.237       0.289\n",
      "quality_of_faculty      -0.1890      0.050     -3.746      0.000      -0.288      -0.090\n",
      "publications             0.4223      0.014     29.545      0.000       0.394       0.450\n",
      "influence                0.2857      0.014     19.858      0.000       0.257       0.314\n",
      "citations                0.1494      0.014     10.365      0.000       0.121       0.178\n",
      "patents                  0.0886      0.010      9.283      0.000       0.070       0.107\n",
      "==============================================================================\n",
      "Omnibus:                      563.944   Durbin-Watson:                   1.385\n",
      "Prob(Omnibus):                  0.000   Jarque-Bera (JB):             2672.471\n",
      "Skew:                          -1.142   Prob(JB):                         0.00\n",
      "Kurtosis:                       7.892   Cond. No.                     3.48e+03\n",
      "==============================================================================\n",
      "\n",
      "Warnings:\n",
      "[1] Standard Errors assume that the covariance matrix of the errors is correctly specified.\n",
      "[2] The condition number is large, 3.48e+03. This might indicate that there are\n",
      "strong multicollinearity or other numerical problems.\n"
     ]
    }
   ],
   "source": [
    "import scipy.stats as stats\n",
    "# get ANOVA table as R like output\n",
    "import statsmodels.api as sm\n",
    "from statsmodels.formula.api import ols\n",
    "import statsmodels.api as sm\n",
    "from patsy import dmatrices\n",
    "vars = ['world_rank', 'quality_of_education', 'alumni_employment', 'quality_of_faculty','publications','influence','citations','patents']#, 'Wealth', 'Region']\n",
    "universityrankings[vars]\n",
    "#Relation between BMI and other variables - BPMeds + prevalentStroke + currentSmoker + glucose + age\n",
    "y, X = dmatrices('world_rank  ~ quality_of_education + alumni_employment + quality_of_faculty + publications + influence + citations + patents', data=universityrankings, return_type='dataframe')\n",
    "mod = sm.OLS(y, X)    # Describe model\n",
    "res = mod.fit()       # Fit model\n",
    "print(res.summary())   # Summarize model\n"
   ]
  },
  {
   "cell_type": "markdown",
   "metadata": {},
   "source": [
    "Analysis:\n",
    "- 91% of world ranking is explained by those variables (drawback : very high numbers of predictors is given here) \n",
    "- Omnibus value should be closer to 0. Here it is far away from 0.\n",
    "- Probability of Omnibus indicates residuals are not normally distributed\n",
    "- Skew is between the range of -2 to +2 but kurtosis is beyond the range of -7 to +7\n",
    "- \n",
    "- Durbin Watson expeccted is between 1 and 2.\n",
    "- Jacque Berra is a confirmation of the Omnibus test. So kurtosis and skew need to be studied\n",
    "- Condition Number indicates sensitivity of output to input - should ideally be within 30. Here the values 3.48+03 is 3480 \n",
    "  This implies (pending analysis of kurtosis and skew) that the data is very higly dependent on inputs.\n",
    "  \n",
    "  \n",
    "ŷ = -52.6402+ 0.0961 quality_of_education + 0.2630 alumni_employment - 0.1890 quality_of_faculty + 0.4223 publications + 0.2857 influence + 0.1494 citations + 0.0886 patents   \n",
    "\n",
    "Here quality_of_faculty drops off from the equation because of the negative coefficient. \n",
    "We will take the variable with the most significant coefficient (publications) for our next analysis.\n",
    "Influence is the next important variable after  publications and ideally both publications and influence should be used to identify world rank.\n",
    "\n",
    "However we will leave out influence for the time being.\n",
    "\n",
    "R-squared: 0.919\n",
    "\n",
    "91.9% of all variation in world rank can be predicted by publications\n",
    "\n",
    "Prob (F-statistic): 0\n",
    "\n",
    "Zero so this implies that overall the regression is meaningful.\n",
    "\n",
    "AIC: 2.590e+04 BIC: 2.595e+04\n",
    "\n",
    "Since the AIC (Akaike's Information Criteria) is higher, it implies there might be a better model.\n",
    "\n",
    "Prob(Omnibus): 0\n",
    "\n",
    "The null hypothesis is that the errors are normally distributed. This is accepted and Alternate hypothesis that distribution of errors is not normally distributed is rejected. \n",
    "\n",
    "Durbin-Watson: 1.385\n",
    "\n",
    "This is a test of autocorrelation - whether variance in errors is constant. The preferred range is 1-2. This means positive autocorrelation\n",
    "\n",
    "\n",
    "\n",
    "Prob(JB): 00\n",
    "\n",
    "Confirms the Prob(Omnibus)\n",
    "\n",
    "Kurtosis: 7.892\n",
    "\n",
    "Kurtosis implies data might not be normally distributed.\n",
    "\n",
    "Skew: -1.142\n",
    "\n",
    "Data is highly skewed \n",
    "\n",
    "Cond. No.  3.48e+03\n",
    "\n",
    "Tests the sensitivity of a function's output to its input. Idea value is within 30. Here the output is highly dependent.\n",
    "Very high multi collinearity.\n",
    "\n",
    "So as discussed, the ideal approach is to take most important parameter publications and second most influence. But we will proceed only with publications"
   ]
  },
  {
   "cell_type": "code",
   "execution_count": 19,
   "metadata": {},
   "outputs": [
    {
     "name": "stdout",
     "output_type": "stream",
     "text": [
      "                            OLS Regression Results                            \n",
      "==============================================================================\n",
      "Dep. Variable:             world_rank   R-squared:                       0.852\n",
      "Model:                            OLS   Adj. R-squared:                  0.852\n",
      "Method:                 Least Squares   F-statistic:                 1.265e+04\n",
      "Date:                Mon, 13 Jul 2020   Prob (F-statistic):               0.00\n",
      "Time:                        20:11:24   Log-Likelihood:                -13599.\n",
      "No. Observations:                2200   AIC:                         2.720e+04\n",
      "Df Residuals:                    2198   BIC:                         2.721e+04\n",
      "Df Model:                           1                                         \n",
      "Covariance Type:            nonrobust                                         \n",
      "================================================================================\n",
      "                   coef    std err          t      P>|t|      [0.025      0.975]\n",
      "--------------------------------------------------------------------------------\n",
      "Intercept       34.2956      4.531      7.569      0.000      25.410      43.181\n",
      "publications     0.9247      0.008    112.486      0.000       0.909       0.941\n",
      "==============================================================================\n",
      "Omnibus:                      381.096   Durbin-Watson:                   1.618\n",
      "Prob(Omnibus):                  0.000   Jarque-Bera (JB):             1918.071\n",
      "Skew:                          -0.729   Prob(JB):                         0.00\n",
      "Kurtosis:                       7.336   Cond. No.                     1.00e+03\n",
      "==============================================================================\n",
      "\n",
      "Warnings:\n",
      "[1] Standard Errors assume that the covariance matrix of the errors is correctly specified.\n",
      "[2] The condition number is large,  1e+03. This might indicate that there are\n",
      "strong multicollinearity or other numerical problems.\n"
     ]
    }
   ],
   "source": [
    "import scipy.stats as stats\n",
    "# get ANOVA table as R like output\n",
    "import statsmodels.api as sm\n",
    "from statsmodels.formula.api import ols\n",
    "import statsmodels.api as sm\n",
    "from patsy import dmatrices\n",
    "vars = ['world_rank', 'quality_of_education', 'alumni_employment', 'quality_of_faculty','publications','influence','citations','patents']#, 'Wealth', 'Region']\n",
    "universityrankings[vars]\n",
    "#Relation between BMI and other variables - BPMeds + prevalentStroke + currentSmoker + glucose + age\n",
    "y, X = dmatrices('world_rank  ~  publications  ', data=universityrankings, return_type='dataframe')\n",
    "mod = sm.OLS(y, X)    # Describe model\n",
    "res = mod.fit()       # Fit model\n",
    "print(res.summary())   # Summarize model"
   ]
  },
  {
   "cell_type": "markdown",
   "metadata": {},
   "source": [
    "ŷ = 34.2956+0.9247publications \n",
    "If publications  = 0 predicted number for world rank = 34.95. 0.9247 suggests if publications increase by 1%, overall world rank will increase by 92.47% which suggests that this area of investigation for improving India's rank is very useful.\n",
    "\n",
    "R-squared:  0.852\n",
    "\n",
    "85.2% of all variation in world rank can be predicted by publications\n",
    "\n",
    "Prob (F-statistic): 0\n",
    "\n",
    "Zero so this implies that overall the regression is meaningful.\n",
    "\n",
    "AIC: 2.720e+04 BIC: 2.721e+04\n",
    "\n",
    "Since the AIC (Akaike's Information Criteria) is higher, it implies there might  be a better model.\n",
    "\n",
    "Prob(Omnibus): 0\n",
    "\n",
    "The null hypothesis is that the errors are normally distributed. This is accepted and Alternate hypothesis that distribution of errors is not normally distributed is rejected.\n",
    "Durbin-Watson: 1.618\n",
    "\n",
    "This is a test of autocorrelation - whether variance in errors is constant. The preferred range is 1-2. This means positive autocorrelation\n",
    "\n",
    "Increase in publications will increase world rank\n",
    "\n",
    "Prob(JB): 00\n",
    "\n",
    "Confirms the Prob(Omnibus)\n",
    "\n",
    "\n",
    "Kurtosis: 7.336\n",
    "\n",
    "Kurtosis implies data might not be normally distributed.\n",
    "\n",
    "\n",
    "Skew: -0.729\n",
    "\n",
    "Data is negatively skewed\n",
    "Cond. No. 1.00e+03\n",
    "\n",
    "Tests the sensitivity of a function's output to its input. Idea value is within 30. Here the output is highly dependent."
   ]
  },
  {
   "cell_type": "markdown",
   "metadata": {},
   "source": [
    "Checking if quality of faculty in Usa, India and China is normally distributed"
   ]
  },
  {
   "cell_type": "code",
   "execution_count": 20,
   "metadata": {},
   "outputs": [
    {
     "data": {
      "image/png": "[encoded data removed]",
      "text/plain": [
       "<Figure size 432x288 with 1 Axes>"
      ]
     },
     "metadata": {
      "needs_background": "light"
     },
     "output_type": "display_data"
    }
   ],
   "source": [
    "import matplotlib.pyplot as plt\n",
    "import numpy as np\n",
    "import scipy.stats as stats\n",
    "stats.probplot(Usa['quality_of_faculty'], dist='norm', sparams=(2.5,), plot=plt)\n",
    "plt.show()\n"
   ]
  },
  {
   "cell_type": "code",
   "execution_count": 21,
   "metadata": {},
   "outputs": [
    {
     "data": {
      "image/png": "[encoded data removed]",
      "text/plain": [
       "<Figure size 432x288 with 1 Axes>"
      ]
     },
     "metadata": {
      "needs_background": "light"
     },
     "output_type": "display_data"
    }
   ],
   "source": [
    "import matplotlib.pyplot as plt\n",
    "import numpy as np\n",
    "import scipy.stats as stats\n",
    "stats.probplot(Usa['quality_of_faculty'], dist='norm', sparams=(2.5,), plot=plt)\n",
    "plt.show()\n"
   ]
  },
  {
   "cell_type": "code",
   "execution_count": 22,
   "metadata": {},
   "outputs": [
    {
     "data": {
      "image/png": "[encoded data removed]",
      "text/plain": [
       "<Figure size 432x288 with 1 Axes>"
      ]
     },
     "metadata": {
      "needs_background": "light"
     },
     "output_type": "display_data"
    }
   ],
   "source": [
    "import matplotlib.pyplot as plt\n",
    "import numpy as np\n",
    "import scipy.stats as stats\n",
    "stats.probplot(China['quality_of_faculty'], dist='norm', sparams=(2.5,), plot=plt)\n",
    "plt.show()\n"
   ]
  },
  {
   "cell_type": "code",
   "execution_count": 23,
   "metadata": {},
   "outputs": [
    {
     "data": {
      "image/png": "[encoded data removed]",
      "text/plain": [
       "<Figure size 432x288 with 1 Axes>"
      ]
     },
     "metadata": {
      "needs_background": "light"
     },
     "output_type": "display_data"
    }
   ],
   "source": [
    "import matplotlib.pyplot as plt\n",
    "import numpy as np\n",
    "import scipy.stats as stats\n",
    "stats.probplot(Usa['publications'], dist='norm', sparams=(2.5,), plot=plt)\n",
    "plt.show()\n"
   ]
  },
  {
   "cell_type": "markdown",
   "metadata": {},
   "source": [
    "The means of Publications in India, China and USA\n",
    "and standard deviations and Z scores"
   ]
  },
  {
   "cell_type": "code",
   "execution_count": 24,
   "metadata": {},
   "outputs": [
    {
     "data": {
      "text/plain": [
       "676.0"
      ]
     },
     "execution_count": 24,
     "metadata": {},
     "output_type": "execute_result"
    }
   ],
   "source": [
    "INDIA_Pub = INDIA['publications'].mean(axis = 0)\n",
    "INDIA_Pub"
   ]
  },
  {
   "cell_type": "code",
   "execution_count": 25,
   "metadata": {},
   "outputs": [
    {
     "data": {
      "text/plain": [
       "588.5688622754491"
      ]
     },
     "execution_count": 25,
     "metadata": {},
     "output_type": "execute_result"
    }
   ],
   "source": [
    "China_Pub = China['publications'].mean(axis = 0)\n",
    "China_Pub"
   ]
  },
  {
   "cell_type": "code",
   "execution_count": 26,
   "metadata": {},
   "outputs": [
    {
     "data": {
      "text/plain": [
       "339.5671902268761"
      ]
     },
     "execution_count": 26,
     "metadata": {},
     "output_type": "execute_result"
    }
   ],
   "source": [
    "Usa_Pub = Usa['publications'].mean(axis = 0)\n",
    "Usa_Pub"
   ]
  },
  {
   "cell_type": "code",
   "execution_count": 27,
   "metadata": {},
   "outputs": [
    {
     "data": {
      "text/plain": [
       "459.9086363636364"
      ]
     },
     "execution_count": 27,
     "metadata": {},
     "output_type": "execute_result"
    }
   ],
   "source": [
    "Mean = universityrankings['publications'].mean(axis = 0)\n",
    "Mean"
   ]
  },
  {
   "cell_type": "code",
   "execution_count": 28,
   "metadata": {},
   "outputs": [
    {
     "data": {
      "text/plain": [
       "101"
      ]
     },
     "execution_count": 28,
     "metadata": {},
     "output_type": "execute_result"
    }
   ],
   "source": [
    "import statistics \n",
    "univankingsmode= statistics.mode(universityrankings['publications'])\n",
    "univankingsmode"
   ]
  },
  {
   "cell_type": "code",
   "execution_count": 29,
   "metadata": {},
   "outputs": [
    {
     "data": {
      "text/plain": [
       "879"
      ]
     },
     "execution_count": 29,
     "metadata": {},
     "output_type": "execute_result"
    }
   ],
   "source": [
    "INDIAmode= statistics.mode(INDIA['publications'])\n",
    "INDIAmode"
   ]
  },
  {
   "cell_type": "code",
   "execution_count": 30,
   "metadata": {},
   "outputs": [
    {
     "data": {
      "text/plain": [
       "919"
      ]
     },
     "execution_count": 30,
     "metadata": {},
     "output_type": "execute_result"
    }
   ],
   "source": [
    "Chinamode= statistics.mode(China['publications'])\n",
    "Chinamode"
   ]
  },
  {
   "cell_type": "code",
   "execution_count": 31,
   "metadata": {},
   "outputs": [
    {
     "data": {
      "text/plain": [
       "101"
      ]
     },
     "execution_count": 31,
     "metadata": {},
     "output_type": "execute_result"
    }
   ],
   "source": [
    "Usamode= statistics.mode(Usa['publications'])\n",
    "Usamode"
   ]
  },
  {
   "cell_type": "code",
   "execution_count": 32,
   "metadata": {},
   "outputs": [
    {
     "data": {
      "text/plain": [
       "303.76035185298394"
      ]
     },
     "execution_count": 32,
     "metadata": {},
     "output_type": "execute_result"
    }
   ],
   "source": [
    "\n",
    "stddev = statistics.stdev(universityrankings['publications'])\n",
    "stddev"
   ]
  },
  {
   "cell_type": "code",
   "execution_count": 33,
   "metadata": {},
   "outputs": [
    {
     "data": {
      "text/plain": [
       "182.69993614302845"
      ]
     },
     "execution_count": 33,
     "metadata": {},
     "output_type": "execute_result"
    }
   ],
   "source": [
    "INDIAstddev = statistics.stdev(INDIA['publications'])\n",
    "INDIAstddev"
   ]
  },
  {
   "cell_type": "code",
   "execution_count": 34,
   "metadata": {},
   "outputs": [
    {
     "data": {
      "text/plain": [
       "268.1520985192248"
      ]
     },
     "execution_count": 34,
     "metadata": {},
     "output_type": "execute_result"
    }
   ],
   "source": [
    "Chinastddev = statistics.stdev(China['publications'])\n",
    "Chinastddev"
   ]
  },
  {
   "cell_type": "code",
   "execution_count": 35,
   "metadata": {},
   "outputs": [
    {
     "data": {
      "text/plain": [
       "310.034057071178"
      ]
     },
     "execution_count": 35,
     "metadata": {},
     "output_type": "execute_result"
    }
   ],
   "source": [
    "Usastddev = statistics.stdev(Usa['publications'])\n",
    "Usastddev"
   ]
  },
  {
   "cell_type": "markdown",
   "metadata": {},
   "source": [
    "The data is skewed so Mean may not be ideal . For example using mean, you will see z scores showing India doing better."
   ]
  },
  {
   "cell_type": "code",
   "execution_count": 36,
   "metadata": {},
   "outputs": [
    {
     "data": {
      "text/plain": [
       "0.7113876525299425"
      ]
     },
     "execution_count": 36,
     "metadata": {},
     "output_type": "execute_result"
    }
   ],
   "source": [
    "zINDIA = (INDIA_Pub - Mean)/stddev\n",
    "zINDIA"
   ]
  },
  {
   "cell_type": "code",
   "execution_count": 37,
   "metadata": {},
   "outputs": [
    {
     "data": {
      "text/plain": [
       "0.4235583252618912"
      ]
     },
     "execution_count": 37,
     "metadata": {},
     "output_type": "execute_result"
    }
   ],
   "source": [
    "zChina = (China_Pub - Mean)/stddev\n",
    "zChina"
   ]
  },
  {
   "cell_type": "code",
   "execution_count": 38,
   "metadata": {},
   "outputs": [
    {
     "data": {
      "text/plain": [
       "-0.3961723292808272"
      ]
     },
     "execution_count": 38,
     "metadata": {},
     "output_type": "execute_result"
    }
   ],
   "source": [
    "zUsa = (Usa_Pub - Mean)/stddev\n",
    "zUsa"
   ]
  },
  {
   "cell_type": "markdown",
   "metadata": {},
   "source": [
    "India has less number of publications - 31 compared to 573 in the US and 167 in China"
   ]
  },
  {
   "cell_type": "code",
   "execution_count": 39,
   "metadata": {},
   "outputs": [
    {
     "data": {
      "text/plain": [
       "573"
      ]
     },
     "execution_count": 39,
     "metadata": {},
     "output_type": "execute_result"
    }
   ],
   "source": [
    "len(Usa['publications'].index)"
   ]
  },
  {
   "cell_type": "code",
   "execution_count": 40,
   "metadata": {},
   "outputs": [
    {
     "data": {
      "text/plain": [
       "31"
      ]
     },
     "execution_count": 40,
     "metadata": {},
     "output_type": "execute_result"
    }
   ],
   "source": [
    "len(INDIA['publications'].index)"
   ]
  },
  {
   "cell_type": "code",
   "execution_count": 41,
   "metadata": {},
   "outputs": [
    {
     "data": {
      "text/plain": [
       "167"
      ]
     },
     "execution_count": 41,
     "metadata": {},
     "output_type": "execute_result"
    }
   ],
   "source": [
    "len(China['publications'].index)"
   ]
  },
  {
   "cell_type": "code",
   "execution_count": 42,
   "metadata": {},
   "outputs": [
    {
     "data": {
      "image/png": "[encoded data removed]",
      "text/plain": [
       "<Figure size 432x288 with 1 Axes>"
      ]
     },
     "metadata": {
      "needs_background": "light"
     },
     "output_type": "display_data"
    }
   ],
   "source": [
    "import matplotlib.pyplot as plt\n",
    "import numpy as np\n",
    "import scipy.stats as stats\n",
    "stats.probplot(INDIA['publications'], dist='norm', sparams=(2.5,), plot=plt)\n",
    "plt.show()\n"
   ]
  },
  {
   "cell_type": "code",
   "execution_count": 43,
   "metadata": {},
   "outputs": [
    {
     "data": {
      "image/png": "[encoded data removed]",
      "text/plain": [
       "<Figure size 432x288 with 1 Axes>"
      ]
     },
     "metadata": {
      "needs_background": "light"
     },
     "output_type": "display_data"
    }
   ],
   "source": [
    "import matplotlib.pyplot as plt\n",
    "import numpy as np\n",
    "import scipy.stats as stats\n",
    "stats.probplot(China['publications'], dist='norm', sparams=(2.5,), plot=plt)\n",
    "plt.show()\n"
   ]
  },
  {
   "cell_type": "code",
   "execution_count": 44,
   "metadata": {},
   "outputs": [
    {
     "data": {
      "image/png": "[encoded data removed]",
      "text/plain": [
       "<Figure size 432x288 with 1 Axes>"
      ]
     },
     "metadata": {
      "needs_background": "light"
     },
     "output_type": "display_data"
    }
   ],
   "source": [
    "import matplotlib.pyplot as plt\n",
    "import numpy as np\n",
    "import scipy.stats as stats\n",
    "stats.probplot(Usa['influence'], dist='norm', sparams=(2.5,), plot=plt)\n",
    "plt.show()\n"
   ]
  },
  {
   "cell_type": "code",
   "execution_count": 45,
   "metadata": {},
   "outputs": [
    {
     "data": {
      "image/png": "[encoded data removed]",
      "text/plain": [
       "<Figure size 432x288 with 1 Axes>"
      ]
     },
     "metadata": {
      "needs_background": "light"
     },
     "output_type": "display_data"
    }
   ],
   "source": [
    "import matplotlib.pyplot as plt\n",
    "import numpy as np\n",
    "import scipy.stats as stats\n",
    "stats.probplot(INDIA['influence'], dist='norm', sparams=(2.5,), plot=plt)\n",
    "plt.show()\n"
   ]
  },
  {
   "cell_type": "code",
   "execution_count": 46,
   "metadata": {},
   "outputs": [
    {
     "data": {
      "image/png": "[encoded data removed]",
      "text/plain": [
       "<Figure size 432x288 with 1 Axes>"
      ]
     },
     "metadata": {
      "needs_background": "light"
     },
     "output_type": "display_data"
    }
   ],
   "source": [
    "import matplotlib.pyplot as plt\n",
    "import numpy as np\n",
    "import scipy.stats as stats\n",
    "stats.probplot(China['influence'], dist='norm', sparams=(2.5,), plot=plt)\n",
    "plt.show()\n"
   ]
  },
  {
   "cell_type": "code",
   "execution_count": 47,
   "metadata": {},
   "outputs": [
    {
     "data": {
      "image/png": "[encoded data removed]",
      "text/plain": [
       "<Figure size 432x288 with 1 Axes>"
      ]
     },
     "metadata": {
      "needs_background": "light"
     },
     "output_type": "display_data"
    }
   ],
   "source": [
    "import matplotlib.pyplot as plt\n",
    "import numpy as np\n",
    "import scipy.stats as stats\n",
    "stats.probplot(Usa['citations'], dist='norm', sparams=(2.5,), plot=plt)\n",
    "plt.show()\n"
   ]
  },
  {
   "cell_type": "code",
   "execution_count": 31,
   "metadata": {},
   "outputs": [
    {
     "data": {
      "image/png": "[encoded data removed]",
      "text/plain": [
       "<Figure size 432x288 with 1 Axes>"
      ]
     },
     "metadata": {
      "needs_background": "light"
     },
     "output_type": "display_data"
    }
   ],
   "source": [
    "import matplotlib.pyplot as plt\n",
    "import numpy as np\n",
    "import scipy.stats as stats\n",
    "stats.probplot(INDIA['citations'], dist='norm', sparams=(2.5,), plot=plt)\n",
    "plt.show()\n"
   ]
  },
  {
   "cell_type": "code",
   "execution_count": 48,
   "metadata": {},
   "outputs": [
    {
     "data": {
      "image/png": "[encoded data removed]",
      "text/plain": [
       "<Figure size 432x288 with 1 Axes>"
      ]
     },
     "metadata": {
      "needs_background": "light"
     },
     "output_type": "display_data"
    }
   ],
   "source": [
    "import matplotlib.pyplot as plt\n",
    "import numpy as np\n",
    "import scipy.stats as stats\n",
    "stats.probplot(China['citations'], dist='norm', sparams=(2.5,), plot=plt)\n",
    "plt.show()\n"
   ]
  }
 ],
 "metadata": {
  "kernelspec": {
   "display_name": "Python 3",
   "language": "python",
   "name": "python3"
  },
  "language_info": {
   "codemirror_mode": {
    "name": "ipython",
    "version": 3
   },
   "file_extension": ".py",
   "mimetype": "text/x-python",
   "name": "python",
   "nbconvert_exporter": "python",
   "pygments_lexer": "ipython3",
   "version": "3.7.6"
  }
 },
 "nbformat": 4,
 "nbformat_minor": 4
}
